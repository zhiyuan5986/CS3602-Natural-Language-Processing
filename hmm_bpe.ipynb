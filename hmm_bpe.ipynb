{
 "cells": [
  {
   "cell_type": "markdown",
   "id": "0a7a16ed",
   "metadata": {},
   "source": [
    "## 任务一：HMM模型用于中文分词"
   ]
  },
  {
   "cell_type": "markdown",
   "id": "030d9a94",
   "metadata": {},
   "source": [
    "任务一评分标准：\n",
    "1. 共有8处TODO需要填写，每个TODO计1-2分，共9分，预计代码量30行；\n",
    "2. 允许自行修改、编写代码完成，对于该情况，请补充注释以便于评分，否则结果不正确将导致较多的扣分；\n",
    "3. 实验报告(python)/用于说明实验的文字块(jupyter notebook)不额外计分，但不写会导致扣分。\n",
    "\n",
    "注：本任务仅在短句子上进行效果测试，因此对概率的计算可直接进行连乘。在实践中，常先对概率取对数，将连乘变为加法来计算，以避免出现数值溢出的情况。"
   ]
  },
  {
   "cell_type": "markdown",
   "id": "f7d77db9",
   "metadata": {},
   "source": [
    "导入HMM参数，初始化所需的起始概率矩阵，转移概率矩阵，发射概率矩阵"
   ]
  },
  {
   "cell_type": "code",
   "execution_count": 19,
   "id": "b36e0db8",
   "metadata": {},
   "outputs": [],
   "source": [
    "import pickle\n",
    "import numpy as np"
   ]
  },
  {
   "cell_type": "code",
   "execution_count": 20,
   "id": "0d25beba",
   "metadata": {},
   "outputs": [],
   "source": [
    "with open(\"hmm_parameters.pkl\", \"rb\") as f:\n",
    "    hmm_parameters = pickle.load(f)\n",
    "\n",
    "# 非断字（B）为第0行，断字（I）为第1行\n",
    "# 发射概率矩阵中，词典大小为65536，以汉字的ord作为行key\n",
    "start_probability = hmm_parameters[\"start_prob\"]  # shape(2,)\n",
    "trans_matrix = hmm_parameters[\"trans_mat\"]  # shape(2, 2)\n",
    "emission_matrix = hmm_parameters[\"emission_mat\"]  # shape(2, 65536)"
   ]
  },
  {
   "cell_type": "markdown",
   "id": "f7070152",
   "metadata": {},
   "source": [
    "定义待处理的句子"
   ]
  },
  {
   "cell_type": "code",
   "execution_count": 21,
   "id": "87219e30",
   "metadata": {},
   "outputs": [],
   "source": [
    "# TODO: 将input_sentence中的xxx替换为你的姓名（1分）\n",
    "input_sentence = \"刘乔安是一名优秀的学生\"\n"
   ]
  },
  {
   "cell_type": "markdown",
   "id": "1035cbc7",
   "metadata": {},
   "source": [
    "实现viterbi算法，并以此进行中文分词\n",
    "\n",
    "<font color=\"red\">阐释</font>\n",
    "\n",
    "Viterbi算法利用了动态规划的思想，重复利用信息，从而降低时间复杂度。\n",
    "- 首先是初始化部分，将第1个位置的初始值 $P(h_1)$ 设为 $a_{0j}b_j(v_1)$。\n",
    "- 然后采用动态规划对其余位置的最大概率进行赋值。\n",
    "- 最后，根据`path`记录的路径，回溯得到每个位置最有可能的隐状态。"
   ]
  },
  {
   "cell_type": "code",
   "execution_count": 22,
   "id": "1adac849",
   "metadata": {},
   "outputs": [],
   "source": [
    "def viterbi(sent_orig, start_prob, trans_mat, emission_mat):\n",
    "    \"\"\"\n",
    "    viterbi算法进行中文分词\n",
    "\n",
    "    Args:\n",
    "        sent_orig: str - 输入的句子\n",
    "        start_prob: numpy.ndarray - 起始概率矩阵\n",
    "        trans_mat: numpy.ndarray - 转移概率矩阵\n",
    "        emission_mat: numpy.ndarray - 发射概率矩阵\n",
    "\n",
    "    Return:\n",
    "        str - 中文分词的结果\n",
    "    \"\"\"\n",
    "    \n",
    "    #  将汉字转为数字表示\n",
    "    sent_ord = [ord(x) for x in sent_orig]\n",
    "    \n",
    "    # `dp`用来储存不同位置每种标注（B/I）的最大概率值\n",
    "    dp = np.zeros((2, len(sent_ord)), dtype=float) # shape(2,len(sent_ord))\n",
    "    \n",
    "    # `path`用来储存最大概率对应的上步B/I选择\n",
    "    #  例如 path[1][7] == 1 意味着第8个（从1开始计数）字符标注I对应的最大概率，其前一步的隐状态为1（I）\n",
    "    #  例如 path[0][5] == 1 意味着第6个字符标注B对应的最大概率，其前一步的隐状态为1（I）\n",
    "    #  例如 path[1][1] == 0 意味着第2个字符标注I对应的最大概率，其前一步的隐状态为0（B）\n",
    "    path = np.zeros((2, len(sent_ord)), dtype=int)\n",
    "    \n",
    "    #  TODO: 第一个位置的最大概率值计算（1分）\n",
    "    dp[:,0] = start_prob * emission_mat[:,sent_ord[0]]\n",
    "    \n",
    "    #  TODO: 其余位置的最大概率值计算（填充dp和path矩阵）（2分）\n",
    "    for i in range(1,len(sent_ord)):\n",
    "        array_for_B = dp[:,i-1] * trans_mat[:,0] * emission_mat[:,sent_ord[i]]\n",
    "        array_for_I = dp[:,i-1] * trans_mat[:,1] * emission_mat[:,sent_ord[i]]\n",
    "\n",
    "        index_for_B = np.argmax(array_for_B)\n",
    "        index_for_I = np.argmax(array_for_I)\n",
    "\n",
    "        dp[0,i] = array_for_B[index_for_B]\n",
    "        dp[1,i] = array_for_I[index_for_I] \n",
    "        path[0][i] = index_for_B\n",
    "        path[1][i] = index_for_I\n",
    "    \n",
    "    #  `labels`用来储存每个位置最有可能的隐状态\n",
    "    labels = [0 for _ in range(len(sent_ord))]\n",
    "    \n",
    "    #  TODO：计算labels每个位置上的值（填充labels矩阵）（1分）\n",
    "    labels[len(sent_ord)-1] = np.argmax(dp[:,len(sent_ord)-1])\n",
    "    for i in range(len(sent_ord)-2,0,-1):\n",
    "        labels[i] = path[labels[i+1]][i]\n",
    "    \n",
    "    #  根据lalels生成切分好的字符串\n",
    "    sent_split = []\n",
    "    for idx, label in enumerate(labels):\n",
    "        if label == 1:\n",
    "            sent_split += [sent_ord[idx], ord(\"/\")]\n",
    "        else:\n",
    "            sent_split += [sent_ord[idx]]\n",
    "    sent_split_str = \"\".join([chr(x) for x in sent_split])\n",
    "\n",
    "    return sent_split_str\n",
    "            "
   ]
  },
  {
   "cell_type": "code",
   "execution_count": 23,
   "id": "d795414b",
   "metadata": {},
   "outputs": [
    {
     "name": "stdout",
     "output_type": "stream",
     "text": [
      "viterbi算法分词结果： 刘乔安是/一名/优秀/的/学生/\n"
     ]
    }
   ],
   "source": [
    "print(\"viterbi算法分词结果：\", viterbi(input_sentence, start_probability, trans_matrix, emission_matrix))"
   ]
  },
  {
   "cell_type": "markdown",
   "id": "60fcafdb",
   "metadata": {},
   "source": [
    "实现前向算法，计算该句子的概率值\n",
    "\n",
    "<font color=\"red\">阐释</font>\n",
    "\n",
    "- 首先，将 $\\alpha_1(j)$ 初始化为 $a_{0j}b_j(v_1), 1\\le j \\le N$。\n",
    "- 再利用类似于Viterbi算法的动态规划思想，计算其余位置的概率 $\\alpha_t(j) = \\sum_{i=1}^N \\alpha_{t-1}(i)a_{ij}b_j(v_t), N=2$。（注意此处对前一位置的所有情况进行求和，而Viterbi算法是求最大值。）\n",
    "- 最后使用公式计算整个句子背后的隐状态概率 $P(v | h) = \\sum_{i=1}^N \\alpha_T(i) a_{iF}$。"
   ]
  },
  {
   "cell_type": "code",
   "execution_count": 24,
   "id": "cf6796a1",
   "metadata": {},
   "outputs": [],
   "source": [
    "def compute_prob_by_forward(sent_orig, start_prob, trans_mat, emission_mat):\n",
    "    \"\"\"\n",
    "    前向算法，计算输入中文句子的概率值\n",
    "\n",
    "    Args:\n",
    "        sent_orig: str - 输入的句子\n",
    "        start_prob: numpy.ndarray - 起始概率矩阵\n",
    "        trans_mat: numpy.ndarray - 转移概率矩阵\n",
    "        emission_mat: numpy.ndarray - 发射概率矩阵\n",
    "\n",
    "    Return:\n",
    "        float - 概率值\n",
    "    \"\"\"\n",
    "    \n",
    "    #  将汉字转为数字表示\n",
    "    sent_ord = [ord(x) for x in sent_orig]\n",
    "\n",
    "    # `dp`用来储存不同位置每种隐状态（B/I）下，到该位置为止的句子的概率\n",
    "    dp = np.zeros((2, len(sent_ord)), dtype=float)\n",
    "\n",
    "    # TODO: 初始位置概率的计算（1分）\n",
    "    dp[:,0] = start_prob * emission_mat[:,sent_ord[0]]\n",
    "    \n",
    "    # TODO: 先计算其余位置的概率（填充dp矩阵），然后return概率值（1分）\n",
    "    for i in range(1,len(sent_ord)):\n",
    "        dp[0,i] = np.sum(dp[:,i-1] * trans_mat[:,0] * emission_mat[0,sent_ord[i]])\n",
    "        dp[1,i] = np.sum(dp[:,i-1] * trans_mat[:,1] * emission_mat[1,sent_ord[i]])\n",
    "      \n",
    "    # pass\n",
    "\n",
    "    return sum([dp[i][len(sent_ord)-1] for i in range(2)])"
   ]
  },
  {
   "cell_type": "markdown",
   "id": "59533cd8",
   "metadata": {},
   "source": [
    "实现后向算法，计算该句子的概率值\n",
    "\n",
    "<font color=\"red\">阐释</font>\n",
    "\n",
    "- 首先，将终末位置的概率初始化为1，即 $\\beta_T(i) = a_{iF} = 1, 1 \\le i \\le N, N=2$。\n",
    "- 再使用动态规划计算其余位置的概率， 即 $\\beta_t(i) = \\sum_{j=1}^N a_{ij}b_j(v_{t+1})\\beta_{t+1}(j), 1\\le i \\le N, 1 \\le t < T$。\n",
    "- 最后计算整个句子背后的隐状态概率 $P(v | h) = \\beta_1(0) = \\sum_{j=1}^N a_{0j}b_j(v_1) \\beta_1(j)$。"
   ]
  },
  {
   "cell_type": "code",
   "execution_count": 25,
   "id": "1e898306",
   "metadata": {},
   "outputs": [],
   "source": [
    "def compute_prob_by_backward(sent_orig, start_prob, trans_mat, emission_mat):\n",
    "    \"\"\"\n",
    "    后向算法，计算输入中文句子的概率值\n",
    "\n",
    "    Args:\n",
    "        sent_orig: str - 输入的句子\n",
    "        start_prob: numpy.ndarray - 起始概率矩阵\n",
    "        trans_mat: numpy.ndarray - 转移概率矩阵\n",
    "        emission_mat: numpy.ndarray - 发射概率矩阵\n",
    "\n",
    "    Return:\n",
    "        float - 概率值\n",
    "    \"\"\"\n",
    "    \n",
    "    #  将汉字转为数字表示\n",
    "    sent_ord = [ord(x) for x in sent_orig]\n",
    "\n",
    "    # `dp`用来储存不同位置每种隐状态（B/I）下，从结尾到该位置为止的句子的概率\n",
    "    dp = np.zeros((2, len(sent_ord)), dtype=float)\n",
    "\n",
    "    # TODO: 终末位置概率的初始化（1分）\n",
    "    dp[:,len(sent_ord)-1] = 1 \n",
    "    \n",
    "    # TODO: 先计算其余位置的概率（填充dp矩阵），然后return概率值（1分）\n",
    "    for i in range(len(sent_ord)-2,-1,-1):\n",
    "        # print(trans_mat[0,:].shape)\n",
    "        dp[0,i] = np.sum(dp[:,i+1] * trans_mat[0,:] * emission_mat[:,sent_ord[i+1]])\n",
    "        dp[1,i] = np.sum(dp[:,i+1] * trans_mat[1,:] * emission_mat[:,sent_ord[i+1]])\n",
    "\n",
    "    return sum([dp[i][0] * start_prob[i] * emission_mat[i][sent_ord[0]] for i in range(2)])"
   ]
  },
  {
   "cell_type": "code",
   "execution_count": 26,
   "id": "b26101d0",
   "metadata": {},
   "outputs": [
    {
     "name": "stdout",
     "output_type": "stream",
     "text": [
      "前向算法概率： 1.050042528069508e-33\n",
      "后向算法概率： 1.0500425280695082e-33\n"
     ]
    }
   ],
   "source": [
    "print(\"前向算法概率：\", compute_prob_by_forward(input_sentence, start_probability, trans_matrix, emission_matrix))\n",
    "print(\"后向算法概率：\", compute_prob_by_backward(input_sentence, start_probability, trans_matrix, emission_matrix))"
   ]
  },
  {
   "cell_type": "markdown",
   "id": "e994be6e",
   "metadata": {},
   "source": [
    "## 任务二：BPE算法用于英文分词"
   ]
  },
  {
   "cell_type": "markdown",
   "id": "c1cc4775",
   "metadata": {},
   "source": [
    "任务二评分标准：\n",
    "\n",
    "1. 共有7处TODO需要填写，每个TODO计1-2分，共9分，预计代码量50行；\n",
    "2. 允许自行修改、编写代码完成，对于该情况，请补充注释以便于评分，否则结果不正确将导致较多的扣分；\n",
    "3. 实验报告(python)/用于说明实验的文字块(jupyter notebook)不额外计分，但不写会导致扣分。"
   ]
  },
  {
   "cell_type": "markdown",
   "id": "0fb5dbb9",
   "metadata": {},
   "source": [
    "构建空格分词器，将语料中的句子以空格切分成单词，然后将单词拆分成字母加`</w>`的形式。例如`apple`将变为`a p p l e </w>`。"
   ]
  },
  {
   "cell_type": "code",
   "execution_count": 27,
   "id": "70e10703",
   "metadata": {},
   "outputs": [],
   "source": [
    "import re\n",
    "import functools"
   ]
  },
  {
   "cell_type": "code",
   "execution_count": 28,
   "id": "d6c3667a",
   "metadata": {},
   "outputs": [],
   "source": [
    "_splitor_pattern = re.compile(r\"[^a-zA-Z']+|(?=')\")\n",
    "_digit_pattern = re.compile(r\"\\d+\")\n",
    "\n",
    "def white_space_tokenize(corpus):\n",
    "    \"\"\"\n",
    "    先正则化（字母转小写、数字转为N、除去标点符号），然后以空格分词语料中的句子，例如：\n",
    "    输入 corpus=[\"I am happy.\", \"I have 10 apples!\"]，\n",
    "    得到 [[\"i\", \"am\", \"happy\"], [\"i\", \"have\", \"N\", \"apples\"]]\n",
    "\n",
    "    Args:\n",
    "        corpus: List[str] - 待处理的语料\n",
    "\n",
    "    Return:\n",
    "        List[List[str]] - 二维List，内部的List由每个句子的单词str构成\n",
    "    \"\"\"\n",
    "\n",
    "    tokeneds = [list(\n",
    "        filter(lambda tkn: len(tkn)>0, _splitor_pattern.split(_digit_pattern.sub(\"N\", stc.lower())))) for stc in corpus\n",
    "    ]\n",
    "    \n",
    "    return tokeneds"
   ]
  },
  {
   "cell_type": "markdown",
   "id": "3732502a",
   "metadata": {},
   "source": [
    "编写相应函数构建BPE算法需要用到的初始状态词典\n",
    "\n",
    "<font color=\"red\">阐释</font>\n",
    "\n",
    "本题只需对句子中每一个词按照字符进行切分，添加空格。最后在词的末尾加上`</w>`。"
   ]
  },
  {
   "cell_type": "code",
   "execution_count": 29,
   "id": "7bf823e2",
   "metadata": {},
   "outputs": [],
   "source": [
    "def build_bpe_vocab(corpus):\n",
    "    \"\"\"\n",
    "    将语料进行white_space_tokenize处理后，将单词每个字母以空格隔开、结尾加上</w>后，构建带频数的字典，例如：\n",
    "    输入 corpus=[\"I am happy.\", \"I have 10 apples!\"]，\n",
    "    得到\n",
    "    {\n",
    "        'i </w>': 2,\n",
    "        'a m </w>': 1,\n",
    "        'h a p p y </w>': 1,\n",
    "        'h a v e </w>': 1,\n",
    "        'N </w>': 1,\n",
    "        'a p p l e s </w>': 1\n",
    "     }\n",
    "\n",
    "    Args:\n",
    "        corpus: List[str] - 待处理的语料\n",
    "\n",
    "    Return:\n",
    "        Dict[str, int] - \"单词分词状态->频数\"的词典\n",
    "    \"\"\"\n",
    "\n",
    "    tokenized_corpus = white_space_tokenize(corpus)\n",
    "\n",
    "    bpe_vocab = dict()\n",
    "    \n",
    "    # TODO: 完成函数体（1分）\n",
    "    for sentence in tokenized_corpus:\n",
    "        for word in sentence:\n",
    "            key = \" \".join(word)+\" </w>\"\n",
    "            if key in bpe_vocab:\n",
    "                bpe_vocab[key] += 1\n",
    "            else:\n",
    "                bpe_vocab[key] = 1\n",
    "\n",
    "    return bpe_vocab"
   ]
  },
  {
   "cell_type": "markdown",
   "id": "b1d25245",
   "metadata": {},
   "source": [
    "编写所需的其他函数"
   ]
  },
  {
   "cell_type": "markdown",
   "id": "05af461b",
   "metadata": {},
   "source": [
    "<font color=\"red\">阐释</font>\n",
    "\n",
    "第一个函数`get_bigram_freq`从第一步清洗后的数据得到每个bigram的频数。这个函数的实现过程也较为简单，只需要对每一词进行更加精细的划分即可。"
   ]
  },
  {
   "cell_type": "code",
   "execution_count": 30,
   "id": "087d11e2",
   "metadata": {},
   "outputs": [],
   "source": [
    "def get_bigram_freq(bpe_vocab):\n",
    "    \"\"\"\n",
    "    统计\"单词分词状态->频数\"的词典中，各bigram的频次（假设该词典中，各个unigram以空格间隔），例如：\n",
    "    输入 bpe_vocab=\n",
    "    {\n",
    "        'i </w>': 2,\n",
    "        'a m </w>': 1,\n",
    "        'h a p p y </w>': 1,\n",
    "        'h a v e </w>': 1,\n",
    "        'N </w>': 1,\n",
    "        'a p p l e s </w>': 1\n",
    "    }\n",
    "    得到\n",
    "    {\n",
    "        ('i', '</w>'): 2,\n",
    "        ('a', 'm'): 1,\n",
    "        ('m', '</w>'): 1,\n",
    "        ('h', 'a'): 2,\n",
    "        ('a', 'p'): 2,\n",
    "        ('p', 'p'): 2,\n",
    "        ('p', 'y'): 1,\n",
    "        ('y', '</w>'): 1,\n",
    "        ('a', 'v'): 1,\n",
    "        ('v', 'e'): 1,\n",
    "        ('e', '</w>'): 1,\n",
    "        ('N', '</w>'): 1,\n",
    "        ('p', 'l'): 1,\n",
    "        ('l', 'e'): 1,\n",
    "        ('e', 's'): 1,\n",
    "        ('s', '</w>'): 1\n",
    "    }\n",
    "\n",
    "    Args:\n",
    "        bpe_vocab: Dict[str, int] - \"单词分词状态->频数\"的词典\n",
    "\n",
    "    Return:\n",
    "        Dict[Tuple(str, str), int] - \"bigram->频数\"的词典\n",
    "    \"\"\"\n",
    "\n",
    "    bigram_freq = dict()\n",
    "    \n",
    "    # TODO: 完成函数体（1分）\n",
    "    for word, freq in bpe_vocab.items():\n",
    "        characters = word.split(\" \")\n",
    "        for i in range(len(characters)-1):\n",
    "            key = (characters[i], characters[i+1])\n",
    "            if key in bigram_freq:\n",
    "                bigram_freq[key] += freq\n",
    "            else:\n",
    "                bigram_freq[key] = freq\n",
    "\n",
    "    return bigram_freq"
   ]
  },
  {
   "cell_type": "markdown",
   "id": "8f36dd27",
   "metadata": {},
   "source": [
    "<font color=\"red\">阐释</font>\n",
    "\n",
    "第二个函数`efresh_bpe_vocab_by_merging_bigram`在“单词分词状态->频数”的字典中，将每个key中存在bigram的位置合并。\n",
    "为了方便，我先定义了一个`mask`用于探测字典的每一个key中有无指定的bigram，再把合并后的新字典返回。"
   ]
  },
  {
   "cell_type": "code",
   "execution_count": 31,
   "id": "ba426043",
   "metadata": {},
   "outputs": [],
   "source": [
    "def refresh_bpe_vocab_by_merging_bigram(bigram, old_bpe_vocab):\n",
    "    \"\"\"\n",
    "    在\"单词分词状态->频数\"的词典中，合并指定的bigram（即去掉对应的相邻unigram之间的空格），最后返回新的词典，例如：\n",
    "    输入 bigram=('i', '</w>')，old_bpe_vocab=\n",
    "    {\n",
    "        'i </w>': 2,\n",
    "        'a m </w>': 1,\n",
    "        'h a p p y </w>': 1,\n",
    "        'h a v e </w>': 1,\n",
    "        'N </w>': 1,\n",
    "        'a p p l e s </w>': 1\n",
    "    }\n",
    "    得到\n",
    "    {\n",
    "        'i</w>': 2,\n",
    "        'a m </w>': 1,\n",
    "        'h a p p y </w>': 1,\n",
    "        'h a v e </w>': 1,\n",
    "        'N </w>': 1,\n",
    "        'a p p l e s </w>': 1\n",
    "    }\n",
    "\n",
    "    Args:\n",
    "        old_bpe_vocab: Dict[str, int] - 初始\"单词分词状态->频数\"的词典\n",
    "\n",
    "    Return:\n",
    "        Dict[str, int] - 合并后的\"单词分词状态->频数\"的词典\n",
    "    \"\"\"\n",
    "    \n",
    "    new_bpe_vocab = dict()\n",
    "\n",
    "    # TODO: 完成函数体（1分）\n",
    "    mask = f\"{bigram[0]} {bigram[1]}\"\n",
    "    new_mask = bigram[0]+bigram[1]\n",
    "    for word, freq in old_bpe_vocab.items():\n",
    "        if mask in word:\n",
    "            key = word.split(mask)\n",
    "            key.insert(1,new_mask)\n",
    "            key = \"\".join(key)\n",
    "            new_bpe_vocab[key] = freq\n",
    "        else:\n",
    "            new_bpe_vocab[word] = freq\n",
    "    return new_bpe_vocab"
   ]
  },
  {
   "cell_type": "markdown",
   "id": "eec5e4ad",
   "metadata": {},
   "source": [
    "<font color=\"red\">阐释</font>\n",
    "\n",
    "第三个函数`get_bpe_tokens`根据“单词分词状态->频数”字典，返回每个BPE分词以及它出现的频数，并且以BPE分词长度递减的顺序返回一个数组。我首先用一个字典统计每种BPE分词的频数，再用`sorted`函数对分词长度排序后返回。注意此处`\"</w>\"`算作长度为1的分词。"
   ]
  },
  {
   "cell_type": "code",
   "execution_count": 32,
   "id": "992438a1",
   "metadata": {},
   "outputs": [],
   "source": [
    "def get_bpe_tokens(bpe_vocab):\n",
    "    \"\"\"\n",
    "    根据\"单词分词状态->频数\"的词典，返回所得到的BPE分词列表，并将该列表按照分词长度降序排序返回，例如：\n",
    "    输入 bpe_vocab=\n",
    "    {\n",
    "        'i</w>': 2,\n",
    "        'a m </w>': 1,\n",
    "        'ha pp y </w>': 1,\n",
    "        'ha v e </w>': 1,\n",
    "        'N </w>': 1,\n",
    "        'a pp l e s </w>': 1\n",
    "    }\n",
    "    得到\n",
    "    [\n",
    "        ('i</w>', 2),\n",
    "        ('ha', 2),\n",
    "        ('pp', 2),\n",
    "        ('a', 2),\n",
    "        ('m', 1),\n",
    "        ('</w>', 5),\n",
    "        ('y', 1),\n",
    "        ('v', 1),\n",
    "        ('e', 2),\n",
    "        ('N', 1),\n",
    "        ('l', 1),\n",
    "        ('s', 1)\n",
    "     ]\n",
    "\n",
    "    Args:\n",
    "        bpe_vocab: Dict[str, int] - \"单词分词状态->频数\"的词典\n",
    "\n",
    "    Return:\n",
    "        List[Tuple(str, int)] - BPE分词和对应频数组成的List\n",
    "    \"\"\"\n",
    "    \n",
    "    # TODO: 完成函数体（2分）\n",
    "    def length_(string):\n",
    "        if '</w>' not in string:\n",
    "            return len(string)\n",
    "        else:\n",
    "            return len(string)-3\n",
    "    \n",
    "    bpe_tokens = dict()\n",
    "    for word, freq in bpe_vocab.items():\n",
    "        word_list = word.split(' ')\n",
    "        for key in word_list:\n",
    "            if key in bpe_tokens:\n",
    "                bpe_tokens[key] += freq\n",
    "            else:\n",
    "                bpe_tokens[key] = freq\n",
    "    bpe_tokens = sorted(map(lambda itm: (itm[0], itm[1]), bpe_tokens.items()),key = lambda itm: length_(itm[0]), reverse=True)\n",
    "    return bpe_tokens"
   ]
  },
  {
   "cell_type": "markdown",
   "id": "6517b4ad",
   "metadata": {},
   "source": [
    "<font color=\"red\">阐释</font>\n",
    "\n",
    "第四个函数`print_bpe_tokenize`按照长度降序对单词进行BPE分词。这里采用递归函数来完成这个过程。\n",
    "- 首先确定终止情况，即`sub_word`是一个空字符串时，直接返回空字符串。\n",
    "- 利用`bpe_tokens`按照分词长度递减排序的特性，遍历这个数组，找到第一个匹配的分词后，按照这个分词截断整个`sub_word`，再对左右部分递归调用。\n",
    "- 若没有找到任何一个匹配的分词，则返回`\"<unknown>\"`"
   ]
  },
  {
   "cell_type": "code",
   "execution_count": 33,
   "id": "3c56995e",
   "metadata": {},
   "outputs": [],
   "source": [
    "def print_bpe_tokenize(word, bpe_tokens):\n",
    "    \"\"\"\n",
    "    根据按长度降序的BPE分词列表，将所给单词进行BPE分词，最后打印结果。\n",
    "    \n",
    "    思想是，对于一个待BPE分词的单词，按照长度顺序从列表中寻找BPE分词进行子串匹配，\n",
    "    若成功匹配，则对该子串左右的剩余部分递归地进行下一轮匹配，直到剩余部分长度为0，\n",
    "    或者剩余部分无法匹配（该部分整体由\"<unknown>\"代替）\n",
    "    \n",
    "    例1：\n",
    "    输入 word=\"supermarket\", bpe_tokens=[\n",
    "        (\"su\", 20),\n",
    "        (\"are\", 10),\n",
    "        (\"per\", 30),\n",
    "    ]\n",
    "    最终打印 \"su per <unknown>\"\n",
    "\n",
    "    例2：\n",
    "    输入 word=\"shanghai\", bpe_tokens=[\n",
    "        (\"hai\", 1),\n",
    "        (\"sh\", 1),\n",
    "        (\"an\", 1),\n",
    "        (\"</w>\", 1),\n",
    "        (\"g\", 1)\n",
    "    ]\n",
    "    最终打印 \"sh an g hai </w>\"\n",
    "\n",
    "    Args:\n",
    "        word: str - 待分词的单词str\n",
    "        bpe_tokens: List[Tuple(str, int)] - BPE分词和对应频数组成的List\n",
    "    \"\"\"\n",
    "    \n",
    "    # TODO: 请尝试使用递归函数定义该分词过程（2分）\n",
    "    def bpe_tokenize(sub_word):\n",
    "        if sub_word == \"\": return \"\"\n",
    "        for gram, freq in bpe_tokens:\n",
    "            if gram in sub_word:\n",
    "                subword_list = sub_word.split(gram)\n",
    "                left_gram = bpe_tokenize(subword_list[0])\n",
    "                right_gram = bpe_tokenize(subword_list[1])\n",
    "                if left_gram != '': \n",
    "                    left_gram += ' '\n",
    "                if right_gram != '':\n",
    "                    right_gram = ' ' + right_gram\n",
    "                return left_gram + gram + right_gram\n",
    "        return \"<unknown>\"\n",
    "        pass\n",
    "\n",
    "    res = bpe_tokenize(word+\"</w>\")\n",
    "    print(res)"
   ]
  },
  {
   "cell_type": "markdown",
   "id": "ecd70402",
   "metadata": {},
   "source": [
    "开始读取数据集并训练BPE分词器"
   ]
  },
  {
   "cell_type": "code",
   "execution_count": 34,
   "id": "215b56d5",
   "metadata": {},
   "outputs": [
    {
     "name": "stdout",
     "output_type": "stream",
     "text": [
      "Loaded training corpus.\n"
     ]
    }
   ],
   "source": [
    "with open(\"data/news.2007.en.shuffled.deduped.train\", encoding=\"utf-8\") as f:\n",
    "    training_corpus = list(map(lambda l: l.strip(), f.readlines()[:1000]))\n",
    "\n",
    "print(\"Loaded training corpus.\")"
   ]
  },
  {
   "cell_type": "markdown",
   "id": "0d4da8f9",
   "metadata": {},
   "source": [
    "<font color=\"red\">阐释</font>\n",
    "\n",
    "在循环体内，\n",
    "- 首先调用`get_bigram_freq`函数，得到每个bigram出现的频次。\n",
    "- 找到具有最大频次的`bigram`，作为接下来要合并的候选者。\n",
    "- 调用`refresh_bpe_vocab_by_merging_bigram`函数，得到更新后的`training_bpe_vocab`。"
   ]
  },
  {
   "cell_type": "code",
   "execution_count": 35,
   "id": "7bccd41d",
   "metadata": {},
   "outputs": [],
   "source": [
    "training_iter_num = 300\n",
    "\n",
    "training_bpe_vocab = build_bpe_vocab(training_corpus)\n",
    "for i in range(training_iter_num):\n",
    "    # TODO: 完成训练循环内的代码逻辑（2分）\n",
    "    bigram_freq = get_bigram_freq(training_bpe_vocab)\n",
    "    bigram = max(bigram_freq, key = lambda x: bigram_freq[x])\n",
    "    training_bpe_vocab = refresh_bpe_vocab_by_merging_bigram(bigram,training_bpe_vocab)\n",
    "\n",
    "training_bpe_tokens = get_bpe_tokens(training_bpe_vocab)"
   ]
  },
  {
   "cell_type": "markdown",
   "id": "78ea3ddd",
   "metadata": {},
   "source": [
    "测试BPE分词器的分词效果"
   ]
  },
  {
   "cell_type": "code",
   "execution_count": 36,
   "id": "c0cfdb29",
   "metadata": {},
   "outputs": [
    {
     "name": "stdout",
     "output_type": "stream",
     "text": [
      "naturallanguageprocessing 的分词结果为：\n",
      "n atur al lan gu age pro ce s sing</w>\n"
     ]
    }
   ],
   "source": [
    "test_word = \"naturallanguageprocessing\"\n",
    "\n",
    "print(\"naturallanguageprocessing 的分词结果为：\")\n",
    "print_bpe_tokenize(test_word, training_bpe_tokens)"
   ]
  }
 ],
 "metadata": {
  "kernelspec": {
   "display_name": "Python 3.8.5 64-bit",
   "language": "python",
   "name": "python3"
  },
  "language_info": {
   "codemirror_mode": {
    "name": "ipython",
    "version": 3
   },
   "file_extension": ".py",
   "mimetype": "text/x-python",
   "name": "python",
   "nbconvert_exporter": "python",
   "pygments_lexer": "ipython3",
   "version": "3.8.5"
  },
  "vscode": {
   "interpreter": {
    "hash": "570feb405e2e27c949193ac68f46852414290d515b0ba6e5d90d076ed2284471"
   }
  }
 },
 "nbformat": 4,
 "nbformat_minor": 5
}
